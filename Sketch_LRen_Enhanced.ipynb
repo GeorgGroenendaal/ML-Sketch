{
 "cells": [
  {
   "cell_type": "code",
   "execution_count": 8,
   "metadata": {},
   "outputs": [],
   "source": [
    "import numpy as np\n",
    "\n",
    "from utils import create_window, split_train_test"
   ]
  },
  {
   "cell_type": "code",
   "execution_count": 2,
   "metadata": {},
   "outputs": [],
   "source": [
    "data = np.load(\"cloud.npz\", encoding=\"latin1\", allow_pickle=True)\n",
    "train = data[\"train\"]"
   ]
  },
  {
   "cell_type": "code",
   "execution_count": 3,
   "metadata": {},
   "outputs": [
    {
     "data": {
      "text/plain": [
       "(69, 3)"
      ]
     },
     "execution_count": 3,
     "metadata": {},
     "output_type": "execute_result"
    }
   ],
   "source": [
    "sample_1 = train[0]\n",
    "\n",
    "sample_1.shape"
   ]
  },
  {
   "cell_type": "code",
   "execution_count": 11,
   "metadata": {},
   "outputs": [
    {
     "data": {
      "text/plain": [
       "(65, 5, 3)"
      ]
     },
     "execution_count": 11,
     "metadata": {},
     "output_type": "execute_result"
    }
   ],
   "source": [
    "create_window(sample_1, 5).shape"
   ]
  },
  {
   "cell_type": "code",
   "execution_count": 5,
   "metadata": {},
   "outputs": [],
   "source": [
    "windows = create_window(np.arange(1000), 10)"
   ]
  },
  {
   "cell_type": "code",
   "execution_count": 6,
   "metadata": {},
   "outputs": [
    {
     "data": {
      "text/plain": [
       "array([[  0.,   1.,   2., ...,   7.,   8.,   9.],\n",
       "       [  1.,   2.,   3., ...,   8.,   9.,  10.],\n",
       "       [  2.,   3.,   4., ...,   9.,  10.,  11.],\n",
       "       ...,\n",
       "       [988., 989., 990., ..., 995., 996., 997.],\n",
       "       [989., 990., 991., ..., 996., 997., 998.],\n",
       "       [990., 991., 992., ..., 997., 998., 999.]])"
      ]
     },
     "execution_count": 6,
     "metadata": {},
     "output_type": "execute_result"
    }
   ],
   "source": [
    "windows"
   ]
  },
  {
   "cell_type": "code",
   "execution_count": 6,
   "metadata": {},
   "outputs": [],
   "source": [
    "x, y  = split_train_test(windows)"
   ]
  },
  {
   "cell_type": "code",
   "execution_count": 7,
   "metadata": {},
   "outputs": [
    {
     "data": {
      "text/plain": [
       "array([[  0.,   1.,   2., ...,   6.,   7.,   8.],\n",
       "       [  1.,   2.,   3., ...,   7.,   8.,   9.],\n",
       "       [  2.,   3.,   4., ...,   8.,   9.,  10.],\n",
       "       ...,\n",
       "       [988., 989., 990., ..., 994., 995., 996.],\n",
       "       [989., 990., 991., ..., 995., 996., 997.],\n",
       "       [990., 991., 992., ..., 996., 997., 998.]])"
      ]
     },
     "execution_count": 7,
     "metadata": {},
     "output_type": "execute_result"
    }
   ],
   "source": [
    "x"
   ]
  }
 ],
 "metadata": {
  "kernelspec": {
   "display_name": "Python 3",
   "language": "python",
   "name": "python3"
  },
  "language_info": {
   "codemirror_mode": {
    "name": "ipython",
    "version": 3
   },
   "file_extension": ".py",
   "mimetype": "text/x-python",
   "name": "python",
   "nbconvert_exporter": "python",
   "pygments_lexer": "ipython3",
   "version": "3.8.6"
  }
 },
 "nbformat": 4,
 "nbformat_minor": 4
}
