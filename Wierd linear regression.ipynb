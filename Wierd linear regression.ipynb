{
 "cells": [
  {
   "cell_type": "code",
   "execution_count": 1,
   "metadata": {},
   "outputs": [],
   "source": [
    "import numpy as np\n",
    "import matplotlib.pyplot as plt\n",
    "from sklearn.linear_model import LinearRegression"
   ]
  },
  {
   "cell_type": "code",
   "execution_count": 2,
   "metadata": {},
   "outputs": [],
   "source": [
    "inp = np.arange(1,101).reshape((25,4))\n",
    "y = (inp[:,-1] + 1).reshape((25, 1))"
   ]
  },
  {
   "cell_type": "code",
   "execution_count": 3,
   "metadata": {},
   "outputs": [
    {
     "data": {
      "text/plain": [
       "array([[  1,   2,   3,   4],\n",
       "       [  5,   6,   7,   8],\n",
       "       [  9,  10,  11,  12],\n",
       "       [ 13,  14,  15,  16],\n",
       "       [ 17,  18,  19,  20],\n",
       "       [ 21,  22,  23,  24],\n",
       "       [ 25,  26,  27,  28],\n",
       "       [ 29,  30,  31,  32],\n",
       "       [ 33,  34,  35,  36],\n",
       "       [ 37,  38,  39,  40],\n",
       "       [ 41,  42,  43,  44],\n",
       "       [ 45,  46,  47,  48],\n",
       "       [ 49,  50,  51,  52],\n",
       "       [ 53,  54,  55,  56],\n",
       "       [ 57,  58,  59,  60],\n",
       "       [ 61,  62,  63,  64],\n",
       "       [ 65,  66,  67,  68],\n",
       "       [ 69,  70,  71,  72],\n",
       "       [ 73,  74,  75,  76],\n",
       "       [ 77,  78,  79,  80],\n",
       "       [ 81,  82,  83,  84],\n",
       "       [ 85,  86,  87,  88],\n",
       "       [ 89,  90,  91,  92],\n",
       "       [ 93,  94,  95,  96],\n",
       "       [ 97,  98,  99, 100]])"
      ]
     },
     "execution_count": 3,
     "metadata": {},
     "output_type": "execute_result"
    }
   ],
   "source": [
    "inp"
   ]
  },
  {
   "cell_type": "code",
   "execution_count": 4,
   "metadata": {},
   "outputs": [
    {
     "data": {
      "text/plain": [
       "array([[  5],\n",
       "       [  9],\n",
       "       [ 13],\n",
       "       [ 17],\n",
       "       [ 21],\n",
       "       [ 25],\n",
       "       [ 29],\n",
       "       [ 33],\n",
       "       [ 37],\n",
       "       [ 41],\n",
       "       [ 45],\n",
       "       [ 49],\n",
       "       [ 53],\n",
       "       [ 57],\n",
       "       [ 61],\n",
       "       [ 65],\n",
       "       [ 69],\n",
       "       [ 73],\n",
       "       [ 77],\n",
       "       [ 81],\n",
       "       [ 85],\n",
       "       [ 89],\n",
       "       [ 93],\n",
       "       [ 97],\n",
       "       [101]])"
      ]
     },
     "execution_count": 4,
     "metadata": {},
     "output_type": "execute_result"
    }
   ],
   "source": [
    "y"
   ]
  },
  {
   "cell_type": "code",
   "execution_count": 5,
   "metadata": {},
   "outputs": [
    {
     "data": {
      "text/plain": [
       "array([[-5.00000000e-01,  3.33066907e-16,  5.00000000e-01,\n",
       "         1.00000000e+00]])"
      ]
     },
     "execution_count": 5,
     "metadata": {},
     "output_type": "execute_result"
    }
   ],
   "source": [
    "lr = LinearRegression(fit_intercept=False)\n",
    "lr.fit(inp, y)\n",
    "lr.coef_"
   ]
  },
  {
   "cell_type": "code",
   "execution_count": 6,
   "metadata": {},
   "outputs": [
    {
     "data": {
      "text/plain": [
       "array([[5.]])"
      ]
     },
     "execution_count": 6,
     "metadata": {},
     "output_type": "execute_result"
    }
   ],
   "source": [
    "lr.predict(inp[0].reshape((1,-1)))"
   ]
  },
  {
   "cell_type": "code",
   "execution_count": 7,
   "metadata": {},
   "outputs": [
    {
     "data": {
      "image/png": "[encoded data removed]",
      "text/plain": [
       "<Figure size 432x288 with 1 Axes>"
      ]
     },
     "metadata": {
      "needs_background": "light"
     },
     "output_type": "display_data"
    }
   ],
   "source": [
    "plt.plot(inp)\n",
    "plt.show()"
   ]
  },
  {
   "cell_type": "code",
   "execution_count": 8,
   "metadata": {},
   "outputs": [],
   "source": [
    "X = inp.T"
   ]
  },
  {
   "cell_type": "code",
   "execution_count": 9,
   "metadata": {},
   "outputs": [
    {
     "data": {
      "text/plain": [
       "array([[  1,   5,   9,  13,  17,  21,  25,  29,  33,  37,  41,  45,  49,\n",
       "         53,  57,  61,  65,  69,  73,  77,  81,  85,  89,  93,  97],\n",
       "       [  2,   6,  10,  14,  18,  22,  26,  30,  34,  38,  42,  46,  50,\n",
       "         54,  58,  62,  66,  70,  74,  78,  82,  86,  90,  94,  98],\n",
       "       [  3,   7,  11,  15,  19,  23,  27,  31,  35,  39,  43,  47,  51,\n",
       "         55,  59,  63,  67,  71,  75,  79,  83,  87,  91,  95,  99],\n",
       "       [  4,   8,  12,  16,  20,  24,  28,  32,  36,  40,  44,  48,  52,\n",
       "         56,  60,  64,  68,  72,  76,  80,  84,  88,  92,  96, 100]])"
      ]
     },
     "execution_count": 9,
     "metadata": {},
     "output_type": "execute_result"
    }
   ],
   "source": [
    "X"
   ]
  },
  {
   "cell_type": "code",
   "execution_count": 10,
   "metadata": {},
   "outputs": [
    {
     "data": {
      "text/plain": [
       "array([[80825, 82050, 83275, 84500],\n",
       "       [82050, 83300, 84550, 85800],\n",
       "       [83275, 84550, 85825, 87100],\n",
       "       [84500, 85800, 87100, 88400]])"
      ]
     },
     "execution_count": 10,
     "metadata": {},
     "output_type": "execute_result"
    }
   ],
   "source": [
    "XXprime = np.dot(X, X.T)\n",
    "XXprime"
   ]
  },
  {
   "cell_type": "code",
   "execution_count": 11,
   "metadata": {},
   "outputs": [
    {
     "data": {
      "text/plain": [
       "(4, 4)"
      ]
     },
     "execution_count": 11,
     "metadata": {},
     "output_type": "execute_result"
    }
   ],
   "source": [
    "XXprimeinv = np.linalg.inv(XXprime)\n",
    "XXprimeinv.shape"
   ]
  },
  {
   "cell_type": "code",
   "execution_count": 12,
   "metadata": {},
   "outputs": [],
   "source": [
    "wprime = np.dot(np.dot(XXprimeinv, X),y)"
   ]
  },
  {
   "cell_type": "code",
   "execution_count": 13,
   "metadata": {},
   "outputs": [
    {
     "data": {
      "text/plain": [
       "array([[ 2.31140137, -0.14703369,  0.03651428,  0.68624878]])"
      ]
     },
     "execution_count": 13,
     "metadata": {},
     "output_type": "execute_result"
    }
   ],
   "source": [
    "w = wprime.T\n",
    "w"
   ]
  },
  {
   "cell_type": "markdown",
   "metadata": {},
   "source": [
    "# Ridge"
   ]
  },
  {
   "cell_type": "code",
   "execution_count": 14,
   "metadata": {},
   "outputs": [],
   "source": [
    "Xridge = np.linalg.inv(np.dot(X, X.T) + 0.001*np.identity(X.shape[0]))"
   ]
  },
  {
   "cell_type": "code",
   "execution_count": 16,
   "metadata": {},
   "outputs": [
    {
     "data": {
      "text/plain": [
       "array([[-4.99975492e-01,  8.37548652e-06,  4.99992232e-01,\n",
       "         9.99976092e-01]])"
      ]
     },
     "execution_count": 16,
     "metadata": {},
     "output_type": "execute_result"
    }
   ],
   "source": [
    "np.dot(np.dot(Xridge, X), y).T"
   ]
  }
 ],
 "metadata": {
  "kernelspec": {
   "display_name": "Python 3",
   "language": "python",
   "name": "python3"
  },
  "language_info": {
   "codemirror_mode": {
    "name": "ipython",
    "version": 3
   },
   "file_extension": ".py",
   "mimetype": "text/x-python",
   "name": "python",
   "nbconvert_exporter": "python",
   "pygments_lexer": "ipython3",
   "version": "3.8.5"
  }
 },
 "nbformat": 4,
 "nbformat_minor": 4
}
