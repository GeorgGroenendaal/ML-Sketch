{
 "cells": [
  {
   "cell_type": "code",
   "execution_count": 1,
   "metadata": {},
   "outputs": [],
   "source": [
    "import numpy as np\n",
    "import random\n",
    "from sklearn.linear_model import Ridge, LinearRegression\n",
    "from sklearn.ensemble import RandomForestRegressor\n",
    "from utils import create_window_on_multiple_samples, split_train_test, draw_strokes"
   ]
  },
  {
   "cell_type": "code",
   "execution_count": 2,
   "metadata": {},
   "outputs": [],
   "source": [
    "cloud = np.load(\"cloud.npz\", allow_pickle=True, encoding=\"latin1\")"
   ]
  },
  {
   "cell_type": "code",
   "execution_count": null,
   "metadata": {},
   "outputs": [],
   "source": []
  },
  {
   "cell_type": "code",
   "execution_count": 3,
   "metadata": {},
   "outputs": [],
   "source": [
    "train = cloud[\"train\"]\n",
    "test = cloud[\"test\"]"
   ]
  },
  {
   "cell_type": "code",
   "execution_count": null,
   "metadata": {},
   "outputs": [],
   "source": []
  },
  {
   "cell_type": "code",
   "execution_count": 4,
   "metadata": {},
   "outputs": [
    {
     "name": "stdout",
     "output_type": "stream",
     "text": [
      "Done processing 69999 samples, total of 2762224 windows and 58006704 datapoints\n"
     ]
    }
   ],
   "source": [
    "windows = create_window_on_multiple_samples(train, 21)"
   ]
  },
  {
   "cell_type": "code",
   "execution_count": 5,
   "metadata": {},
   "outputs": [
    {
     "data": {
      "text/plain": [
       "(2762224, 21, 3)"
      ]
     },
     "execution_count": 5,
     "metadata": {},
     "output_type": "execute_result"
    }
   ],
   "source": [
    "windows.shape"
   ]
  },
  {
   "cell_type": "code",
   "execution_count": 6,
   "metadata": {},
   "outputs": [],
   "source": [
    "X, y = split_train_test(windows)"
   ]
  },
  {
   "cell_type": "code",
   "execution_count": 7,
   "metadata": {},
   "outputs": [],
   "source": [
    "def add_features(window):\n",
    "    originaldimensioncount = len(window.shape)\n",
    "    if originaldimensioncount == 2:\n",
    "        # add an extra dimension for 2 dimensional input\n",
    "        window = window.reshape(1, *window.shape)\n",
    "        \n",
    "    Xsquared = (window[:,:,0] ** 2)\n",
    "    Ysquared = (window[:,:,1] ** 2)\n",
    "    XY = (window[:,:,1] * window[:,:,0])\n",
    "    \n",
    "    window = np.round(np.dstack((window, Xsquared, Ysquared, XY)))\n",
    "    \n",
    "    if originaldimensioncount == 2:\n",
    "        # remove extra dimension\n",
    "        window = window.reshape((*window.shape[1:]))\n",
    "    return window"
   ]
  },
  {
   "cell_type": "code",
   "execution_count": null,
   "metadata": {},
   "outputs": [],
   "source": []
  },
  {
   "cell_type": "code",
   "execution_count": 8,
   "metadata": {},
   "outputs": [],
   "source": [
    "X = add_features(X)"
   ]
  },
  {
   "cell_type": "code",
   "execution_count": 9,
   "metadata": {},
   "outputs": [
    {
     "data": {
      "text/plain": [
       "(2762224, 20, 6)"
      ]
     },
     "execution_count": 9,
     "metadata": {},
     "output_type": "execute_result"
    }
   ],
   "source": [
    "X.shape"
   ]
  },
  {
   "cell_type": "code",
   "execution_count": 10,
   "metadata": {},
   "outputs": [],
   "source": [
    "Xreshaped = X.reshape((X.shape[0], X.shape[1]*X.shape[2]))"
   ]
  },
  {
   "cell_type": "code",
   "execution_count": 11,
   "metadata": {},
   "outputs": [
    {
     "data": {
      "text/plain": [
       "LinearRegression()"
      ]
     },
     "execution_count": 11,
     "metadata": {},
     "output_type": "execute_result"
    }
   ],
   "source": [
    "model = LinearRegression()\n",
    "model.fit(Xreshaped, y)"
   ]
  },
  {
   "cell_type": "code",
   "execution_count": 15,
   "metadata": {},
   "outputs": [
    {
     "data": {
      "image/svg+xml": [
       "<svg xmlns=\"http://www.w3.org/2000/svg\" xmlns:ev=\"http://www.w3.org/2001/xml-events\" xmlns:xlink=\"http://www.w3.org/1999/xlink\" baseProfile=\"full\" height=\"174.5\" version=\"1.1\" width=\"387.0\"><defs/><rect fill=\"white\" height=\"174.5\" width=\"387.0\" x=\"0\" y=\"0\"/><path d=\"M175.0,75.5 m0.5,-6.0 l5.0,-7.0 21.5,-23.0 l20.0,-11.0 14.0,-3.5 l9.5,0.0 3.5,2.0 l14.5,11.0 0.0,3.0 l3.0,2.0 43.0,0.0 l33.0,3.5 9.5,3.0 l3.0,3.0 0.0,14.0 l-9.5,6.5 -23.0,2.0 l-0.5,2.5 31.0,22.5 l9.0,14.0 \" fill=\"none\" stroke=\"red\" stroke-width=\"2\"/><path d=\"M175.0,75.5 m0.5,-6.0 l5.0,-7.0 21.5,-23.0 l20.0,-11.0 14.0,-3.5 l9.5,0.0 3.5,2.0 l14.5,11.0 0.0,3.0 l3.0,2.0 43.0,0.0 l33.0,3.5 9.5,3.0 l3.0,3.0 0.0,14.0 l-9.5,6.5 -23.0,2.0 l-0.5,2.5 31.0,22.5 l9.0,14.0 0.0,12.5 l-7.5,10.5 -11.0,6.5 l-25.5,6.0 -55.0,-1.5 l-75.0,-22.5 -19.0,-7.5 l-37.0,-2.0 -18.5,-3.5 l-50.5,-16.5 -28.0,-12.5 l-5.0,-9.5 -5.0,-20.0 l1.0,-4.5 9.0,-6.5 l14.5,-3.0 30.5,0.0 l12.0,4.0 5.5,3.5 l5.5,10.5 8.0,9.5 l10.0,8.0 5.0,-2.0 l12.0,-12.5 7.5,-3.5 l5.0,0.0 22.5,15.5 l7.5,3.0 \" fill=\"none\" stroke=\"black\" stroke-width=\"1\"/></svg>"
      ],
      "text/plain": [
       "<IPython.core.display.SVG object>"
      ]
     },
     "metadata": {},
     "output_type": "display_data"
    },
    {
     "data": {
      "image/svg+xml": [
       "<svg xmlns=\"http://www.w3.org/2000/svg\" xmlns:ev=\"http://www.w3.org/2001/xml-events\" xmlns:xlink=\"http://www.w3.org/1999/xlink\" baseProfile=\"full\" height=\"173.5\" version=\"1.1\" width=\"394.5\"><defs/><rect fill=\"white\" height=\"173.5\" width=\"394.5\" x=\"0\" y=\"0\"/><path d=\"M175.0,75.5 m0.5,-6.0 l5.0,-7.0 21.5,-23.0 l20.0,-11.0 14.0,-3.5 l9.5,0.0 3.5,2.0 l14.5,11.0 0.0,3.0 l3.0,2.0 43.0,0.0 l33.0,3.5 9.5,3.0 l3.0,3.0 0.0,14.0 l-9.5,6.5 -23.0,2.0 l-0.5,2.5 31.0,22.5 l9.0,14.0 \" fill=\"none\" stroke=\"red\" stroke-width=\"2\"/><path d=\"M175.0,75.5 m0.5,-6.0 l5.0,-7.0 21.5,-23.0 l20.0,-11.0 14.0,-3.5 l9.5,0.0 3.5,2.0 l14.5,11.0 0.0,3.0 l3.0,2.0 43.0,0.0 l33.0,3.5 9.5,3.0 l3.0,3.0 0.0,14.0 l-9.5,6.5 -23.0,2.0 l-0.5,2.5 31.0,22.5 l9.0,14.0 5.5,9.0 l2.0,6.5 -1.0,5.0 l-2.5,3.0 -3.5,2.0 l-4.0,1.5 -4.0,1.5 l-4.5,1.5 -4.0,1.5 l-4.5,1.5 -6.5,1.0 l-5.5,0.5 -3.5,-0.0 l-2.5,-1.0 -2.5,-2.0 l-2.5,-2.0 -2.0,-2.0 l-3.5,-2.0 -5.0,-3.0 l-4.0,-2.5 -3.5,-2.5 l-2.5,-2.0 -2.0,-2.0 l-1.5,-1.5 -1.0,-1.5 l-1.0,-1.5 -1.0,-1.5 l-1.0,-1.5 -1.0,-1.5 l-0.5,-1.0 -0.5,-1.0 l-0.5,-1.0 -0.5,-0.5 l-0.5,-0.5 -0.5,-0.0 l-0.5,-0.0 -0.5,0.0 l-0.5,0.0 -0.5,0.0 l-0.5,0.0 -0.5,0.0 l-0.5,0.0 -1.0,0.0 l-1.0,0.0 -1.0,0.0 l-1.0,0.0 -1.0,0.0 l-1.0,0.0 -1.0,0.0 l-1.0,-0.0 -1.0,-0.0 l-1.0,-0.0 -1.0,-0.0 l-1.0,-0.0 -1.0,-0.0 l-1.0,-0.0 -1.0,-0.0 l-1.0,-0.0 -1.0,-0.0 l-1.0,-0.0 -1.0,-0.0 l-1.0,-0.0 -1.0,-0.0 l-1.0,-0.0 -1.0,-0.0 l-1.0,-0.0 -1.0,-0.0 l-1.0,-0.0 -1.0,-0.0 l-1.0,-0.0 -1.0,-0.0 l-1.0,-0.0 -1.0,-0.0 l-1.0,-0.0 -1.0,-0.0 l-1.0,-0.0 -1.0,-0.0 l-1.0,-0.0 -1.0,-0.0 l-1.0,-0.0 -1.0,-0.0 l-1.0,-0.0 -1.0,-0.0 l-1.0,-0.0 -1.0,-0.0 l-1.0,-0.0 -1.0,-0.0 l-1.0,-0.0 -1.0,-0.0 l-1.0,-0.0 -1.0,-0.0 l-1.0,-0.0 -1.0,-0.0 l-1.0,-0.0 -1.0,-0.0 l-1.0,-0.0 -1.0,-0.0 l-1.0,-0.0 -1.0,-0.0 l-1.0,-0.0 -1.0,-0.0 l-1.0,-0.0 -1.0,-0.0 l-1.0,-0.0 -1.0,-0.0 l-1.0,-0.0 -1.0,-0.0 l-1.0,-0.0 -1.0,-0.0 l-1.0,-0.0 -1.0,-0.0 l-1.0,-0.0 -1.0,-0.0 l-1.0,-0.0 -1.0,-0.0 l-1.0,-0.0 -1.0,-0.0 l-1.0,-0.0 -1.0,-0.0 l-1.0,-0.0 -1.0,-0.0 l-1.0,-0.0 -1.0,-0.0 l-1.0,-0.0 -1.0,-0.0 l-1.0,-0.0 -1.0,-0.0 l-1.0,-0.0 -1.0,-0.0 l-1.0,-0.0 -1.0,-0.0 l-1.0,-0.0 -1.0,-0.0 l-1.0,-0.0 -1.0,-0.0 l-1.0,-0.0 -1.0,-0.0 l-1.0,-0.0 -1.0,-0.0 l-1.0,-0.0 -1.0,-0.0 l-1.0,-0.0 -1.0,-0.0 l-1.0,-0.0 -1.0,-0.0 l-1.0,-0.0 -1.0,-0.0 l-1.0,-0.0 -1.0,-0.0 l-1.0,-0.0 -1.0,-0.0 l-1.0,-0.0 -1.0,-0.0 l-1.0,-0.0 -1.0,-0.0 l-1.0,-0.0 -1.0,-0.0 l-1.0,-0.0 -1.0,-0.0 l-1.0,-0.0 -1.0,-0.0 l-1.0,-0.0 -1.0,-0.0 l-1.0,-0.0 -1.0,-0.0 l-1.0,-0.0 -1.0,-0.0 l-1.0,-0.0 -1.0,-0.0 l-1.0,-0.0 -1.0,-0.0 l-1.0,-0.0 -1.0,-0.0 l-1.0,-0.0 -1.0,-0.0 l-1.0,-0.0 -1.0,-0.0 l-1.0,-0.0 -1.0,-0.0 l-1.0,-0.0 -1.0,-0.0 l-1.0,-0.0 -1.0,-0.0 l-1.0,-0.0 -1.0,-0.0 l-1.0,-0.0 -1.0,-0.0 l-1.0,-0.0 -1.0,-0.0 l-1.0,-0.0 -1.0,-0.0 l-1.0,-0.0 -1.0,-0.0 l-1.0,-0.0 -1.0,-0.0 l-1.0,-0.0 -1.0,-0.0 l-1.0,-0.0 -1.0,-0.0 l-1.0,-0.0 -1.0,-0.0 l-1.0,-0.0 -1.0,-0.0 l-1.0,-0.0 -1.0,-0.0 l-1.0,-0.0 -1.0,-0.0 l-1.0,-0.0 -1.0,-0.0 l-1.0,-0.0 -1.0,-0.0 l-1.0,-0.0 -1.0,-0.0 l-1.0,-0.0 -1.0,-0.0 l-1.0,-0.0 -1.0,-0.0 l-1.0,-0.0 -1.0,-0.0 l-1.0,-0.0 -1.0,-0.0 l-1.0,-0.0 -1.0,-0.0 l-1.0,-0.0 -1.0,-0.0 l-1.0,-0.0 -1.0,-0.0 l-1.0,-0.0 -1.0,-0.0 l-1.0,-0.0 -1.0,-0.0 l-1.0,-0.0 -1.0,-0.0 l-1.0,-0.0 -1.0,-0.0 l-1.0,-0.0 -1.0,-0.0 l-1.0,-0.0 -1.0,-0.0 l-1.0,-0.0 -1.0,-0.0 l-1.0,-0.0 -1.0,-0.0 l-1.0,-0.0 -1.0,-0.0 l-1.0,-0.0 -1.0,-0.0 l-1.0,-0.0 -1.0,-0.0 l-1.0,-0.0 -1.0,-0.0 l-1.0,-0.0 -1.0,-0.0 l-1.0,-0.0 -1.0,-0.0 l-1.0,-0.0 -1.0,-0.0 l-1.0,-0.0 -1.0,-0.0 l-1.0,-0.0 -1.0,-0.0 l-1.0,-0.0 -1.0,-0.0 l-1.0,-0.0 -1.0,-0.0 l-1.0,-0.0 -1.0,-0.0 l-1.0,-0.0 -1.0,-0.0 l-1.0,-0.0 -1.0,-0.0 l-1.0,-0.0 -1.0,-0.0 l-1.0,-0.0 -1.0,-0.0 l-1.0,-0.0 -1.0,-0.0 l-1.0,-0.0 -1.0,-0.0 l-1.0,-0.0 -1.0,-0.0 l-1.0,-0.0 -1.0,-0.0 l-1.0,-0.0 -1.0,-0.0 l-1.0,-0.0 -1.0,-0.0 l-1.0,-0.0 -1.0,-0.0 l-1.0,-0.0 -1.0,-0.0 l-1.0,-0.0 -1.0,-0.0 l-1.0,-0.0 -1.0,-0.0 l-1.0,-0.0 -1.0,-0.0 l-1.0,-0.0 -1.0,-0.0 l-1.0,-0.0 \" fill=\"none\" stroke=\"black\" stroke-width=\"1\"/></svg>"
      ],
      "text/plain": [
       "<IPython.core.display.SVG object>"
      ]
     },
     "metadata": {},
     "output_type": "display_data"
    }
   ],
   "source": [
    "Xcopy = add_features(np.copy(random.choice(test)))\n",
    "Xcopycopy = Xcopy[:20]\n",
    "\n",
    "for i in range(300):\n",
    "    yhat = np.round(model.predict(Xcopycopy[-20:].reshape(1,-1)))\n",
    "    \n",
    "    yhat = add_features(yhat)    \n",
    "    Xcopycopy = np.vstack((Xcopycopy, yhat))\n",
    "\n",
    "draw_strokes(Xcopy)\n",
    "draw_strokes(Xcopycopy)"
   ]
  },
  {
   "cell_type": "code",
   "execution_count": null,
   "metadata": {},
   "outputs": [],
   "source": []
  }
 ],
 "metadata": {
  "kernelspec": {
   "display_name": "Python 3",
   "language": "python",
   "name": "python3"
  },
  "language_info": {
   "codemirror_mode": {
    "name": "ipython",
    "version": 3
   },
   "file_extension": ".py",
   "mimetype": "text/x-python",
   "name": "python",
   "nbconvert_exporter": "python",
   "pygments_lexer": "ipython3",
   "version": "3.8.5"
  }
 },
 "nbformat": 4,
 "nbformat_minor": 4
}
