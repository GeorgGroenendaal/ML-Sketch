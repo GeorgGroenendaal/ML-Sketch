{
 "cells": [
  {
   "cell_type": "code",
   "execution_count": 1,
   "metadata": {},
   "outputs": [],
   "source": [
    "import numpy as np\n",
    "from sklearn.linear_model import LinearRegression\n",
    "from sklearn.svm import SVC\n",
    "from six.moves import xrange\n",
    "from utils import create_window_on_multiple_samples, split_train_test"
   ]
  },
  {
   "cell_type": "code",
   "execution_count": 2,
   "metadata": {},
   "outputs": [],
   "source": [
    "from IPython.display import SVG, display\n",
    "import PIL\n",
    "from PIL import Image\n",
    "import matplotlib.pyplot as plt"
   ]
  },
  {
   "cell_type": "code",
   "execution_count": 3,
   "metadata": {},
   "outputs": [],
   "source": [
    "import svgwrite\n",
    "import random\n",
    "import os\n",
    "from six.moves import xrange"
   ]
  },
  {
   "cell_type": "code",
   "execution_count": 4,
   "metadata": {},
   "outputs": [],
   "source": [
    "# helper function for draw_strokes\n",
    "def get_bounds(data, factor):\n",
    "  min_x = 0\n",
    "  max_x = 0\n",
    "  min_y = 0\n",
    "  max_y = 0\n",
    "    \n",
    "  abs_x = 0\n",
    "  abs_y = 0\n",
    "  for i in xrange(len(data)):\n",
    "    x = float(data[i,0])/factor\n",
    "    y = float(data[i,1])/factor\n",
    "    abs_x += x\n",
    "    abs_y += y\n",
    "    min_x = min(min_x, abs_x)\n",
    "    min_y = min(min_y, abs_y)\n",
    "    max_x = max(max_x, abs_x)\n",
    "    max_y = max(max_y, abs_y)\n",
    "    \n",
    "  return (min_x, max_x, min_y, max_y)\n",
    "\n",
    "# little function that displays vector images and saves them to .svg\n",
    "def draw_strokes(data, factor=2, svg_filename = 'sample.svg'):\n",
    "  min_x, max_x, min_y, max_y = get_bounds(data, factor)\n",
    "  dims = (50 + max_x - min_x, 50 + max_y - min_y)\n",
    "  dwg = svgwrite.Drawing(svg_filename, size=dims)\n",
    "  dwg.add(dwg.rect(insert=(0, 0), size=dims,fill='white'))\n",
    "  lift_pen = 1\n",
    "  abs_x = 25 - min_x \n",
    "  abs_y = 25 - min_y\n",
    "  p = \"M%s,%s \" % (abs_x, abs_y)\n",
    "  command = \"m\"\n",
    "  for i in xrange(0,20):\n",
    "    if (lift_pen == 1):\n",
    "      command = \"m\"\n",
    "    elif (command != \"l\"):\n",
    "      command = \"l\"\n",
    "    else:\n",
    "      command = \"\"\n",
    "    x = float(data[i,0])/factor\n",
    "    y = float(data[i,1])/factor\n",
    "    lift_pen = data[i, 2]\n",
    "    p += command+str(x)+\",\"+str(y)+\" \"\n",
    "  the_color = \"red\"\n",
    "  stroke_width = 2\n",
    "  dwg.add(dwg.path(p).stroke(the_color,stroke_width).fill(\"none\"))\n",
    "  for i in xrange(20,len(data)):\n",
    "    if (lift_pen == 1):\n",
    "      command = \"m\"\n",
    "    elif (command != \"l\"):\n",
    "      command = \"l\"\n",
    "    else:\n",
    "      command = \"\"\n",
    "    x = float(data[i,0])/factor\n",
    "    y = float(data[i,1])/factor\n",
    "    lift_pen = data[i, 2]\n",
    "    p += command+str(x)+\",\"+str(y)+\" \"\n",
    "  the_color = \"black\"\n",
    "  stroke_width = 1\n",
    "  dwg.add(dwg.path(p).stroke(the_color,stroke_width).fill(\"none\"))\n",
    "  dwg.save()\n",
    "  display(SVG(dwg.tostring()))\n",
    "\n",
    "# generate a 2D grid of many vector drawings\n",
    "def make_grid_svg(s_list, grid_space=10.0, grid_space_x=15.0):\n",
    "  def get_start_and_end(x):\n",
    "    x = np.array(x)\n",
    "    x = x[:, 0:2]\n",
    "    x_start = x[0]\n",
    "    x_end = x.sum(axis=0)\n",
    "    x = x.cumsum(axis=0)\n",
    "    x_max = x.max(axis=0)\n",
    "    x_min = x.min(axis=0)\n",
    "    center_loc = (x_max+x_min)*0.5\n",
    "    return x_start-center_loc, x_end\n",
    "  x_pos = 0.0\n",
    "  y_pos = 0.0\n",
    "  result = [[x_pos, y_pos, 1]]\n",
    "  for sample in s_list:\n",
    "    s = sample[0]\n",
    "    grid_loc = sample[1]\n",
    "    grid_y = grid_loc[0]*grid_space+grid_space*0.5\n",
    "    grid_x = grid_loc[1]*grid_space_x+grid_space_x*0.5\n",
    "    start_loc, delta_pos = get_start_and_end(s)\n",
    "\n",
    "    loc_x = start_loc[0]\n",
    "    loc_y = start_loc[1]\n",
    "    new_x_pos = grid_x+loc_x\n",
    "    new_y_pos = grid_y+loc_y\n",
    "    result.append([new_x_pos-x_pos, new_y_pos-y_pos, 0])\n",
    "\n",
    "    result += s.tolist()\n",
    "    result[-1][2] = 1\n",
    "    x_pos = new_x_pos+delta_pos[0]\n",
    "    y_pos = new_y_pos+delta_pos[1]\n",
    "  return np.array(result)\n",
    "#test_set = np.load(data_dir, encoding='latin1', allow_pickle=True)\n",
    "# get a sample drawing from the test set, and render it to .svg"
   ]
  },
  {
   "cell_type": "code",
   "execution_count": 5,
   "metadata": {},
   "outputs": [],
   "source": [
    "cloud = np.load(\"cloud.npz\", allow_pickle=True, encoding=\"latin1\")"
   ]
  },
  {
   "cell_type": "code",
   "execution_count": 6,
   "metadata": {},
   "outputs": [],
   "source": [
    "train = cloud[\"train\"]"
   ]
  },
  {
   "cell_type": "code",
   "execution_count": 7,
   "metadata": {},
   "outputs": [
    {
     "name": "stdout",
     "output_type": "stream",
     "text": [
      "Done processing 69999 samples, total of 2762224 windows and 58006704 datapoints\n"
     ]
    }
   ],
   "source": [
    "windows = create_window_on_multiple_samples(train, 21)"
   ]
  },
  {
   "cell_type": "code",
   "execution_count": 8,
   "metadata": {},
   "outputs": [
    {
     "data": {
      "text/plain": [
       "array([[   1,  -42,    0],\n",
       "       [   5,  -10,    0],\n",
       "       [  28,  -21,    0],\n",
       "       [  29,   -8,    0],\n",
       "       [  47,    1,    0],\n",
       "       [  19,   10,    0],\n",
       "       [   2,   12,    0],\n",
       "       [ -11,   15,    0],\n",
       "       [  10,    2,    0],\n",
       "       [  92,   -5,    0],\n",
       "       [ 137,    0,    0],\n",
       "       [   3,    5,    0],\n",
       "       [  -7,    3,    0],\n",
       "       [ -16,   17,    0],\n",
       "       [ 130,   -1,    0],\n",
       "       [   6,    5,    0],\n",
       "       [  -1,   13,    0],\n",
       "       [  -4,    9,    0],\n",
       "       [ -22,   22,    0],\n",
       "       [  50,   -4,    0],\n",
       "       [  68,    2,    0],\n",
       "       [  19,   12,    0],\n",
       "       [   9,   18,    0],\n",
       "       [  -2,   24,    0],\n",
       "       [ -15,   19,    0],\n",
       "       [ -32,   17,    0],\n",
       "       [ -29,   20,    0],\n",
       "       [ -20,   10,    0],\n",
       "       [ -16,    4,    0],\n",
       "       [  22,    0,    0],\n",
       "       [   3,    5,    0],\n",
       "       [  -2,    6,    0],\n",
       "       [ -17,   15,    0],\n",
       "       [-134,   68,    0],\n",
       "       [ -24,    6,    0],\n",
       "       [ -31,    0,    0],\n",
       "       [  -9,   -3,    0],\n",
       "       [ -28,  -15,    0],\n",
       "       [ -10,  -10,    0],\n",
       "       [  -5,   -9,    0],\n",
       "       [  -1,  -16,    0],\n",
       "       [  23,  -30,    0],\n",
       "       [ -32,   30,    0],\n",
       "       [ -49,   30,    0],\n",
       "       [ -35,   16,    0],\n",
       "       [ -23,   -1,    0],\n",
       "       [ -26,  -29,    0],\n",
       "       [ -12,  -27,    0],\n",
       "       [   0,  -19,    0],\n",
       "       [   5,  -11,    0],\n",
       "       [  18,  -23,    0],\n",
       "       [ -13,   17,    0],\n",
       "       [ -72,   34,    0],\n",
       "       [ -17,    4,    0],\n",
       "       [ -66,    0,    0],\n",
       "       [   2,  -75,    0],\n",
       "       [   3,  -27,    0],\n",
       "       [   8,  -17,    0],\n",
       "       [   8,  -10,    0],\n",
       "       [  14,   -7,    0],\n",
       "       [  36,   -2,    0],\n",
       "       [   0,    5,    0],\n",
       "       [ -13,   17,    0],\n",
       "       [  -6,    1,    0],\n",
       "       [ -20,  -45,    0],\n",
       "       [  -2,  -25,    0],\n",
       "       [  18,  -15,    0],\n",
       "       [  42,  -13,    0],\n",
       "       [  13,   -8,    1]], dtype=int16)"
      ]
     },
     "execution_count": 8,
     "metadata": {},
     "output_type": "execute_result"
    }
   ],
   "source": [
    "train[0]"
   ]
  },
  {
   "cell_type": "code",
   "execution_count": 9,
   "metadata": {},
   "outputs": [],
   "source": [
    "X, y = split_train_test(windows)"
   ]
  },
  {
   "cell_type": "code",
   "execution_count": 10,
   "metadata": {},
   "outputs": [
    {
     "data": {
      "text/plain": [
       "array([68.,  2.,  0.])"
      ]
     },
     "execution_count": 10,
     "metadata": {},
     "output_type": "execute_result"
    }
   ],
   "source": [
    "y[0]"
   ]
  },
  {
   "cell_type": "code",
   "execution_count": 11,
   "metadata": {},
   "outputs": [],
   "source": [
    "Xreshaped = X.reshape((X.shape[0], X.shape[1]*X.shape[2]))"
   ]
  },
  {
   "cell_type": "code",
   "execution_count": 12,
   "metadata": {},
   "outputs": [
    {
     "data": {
      "text/plain": [
       "array([  1., -42.,   0.,   5., -10.,   0.,  28., -21.,   0.,  29.,  -8.,\n",
       "         0.,  47.,   1.,   0.,  19.,  10.,   0.,   2.,  12.,   0., -11.,\n",
       "        15.,   0.,  10.,   2.,   0.,  92.,  -5.,   0., 137.,   0.,   0.,\n",
       "         3.,   5.,   0.,  -7.,   3.,   0., -16.,  17.,   0., 130.,  -1.,\n",
       "         0.,   6.,   5.,   0.,  -1.,  13.,   0.,  -4.,   9.,   0., -22.,\n",
       "        22.,   0.,  50.,  -4.,   0.])"
      ]
     },
     "execution_count": 12,
     "metadata": {},
     "output_type": "execute_result"
    }
   ],
   "source": [
    "Xreshaped[0]"
   ]
  },
  {
   "cell_type": "code",
   "execution_count": 13,
   "metadata": {},
   "outputs": [
    {
     "data": {
      "text/plain": [
       "LinearRegression()"
      ]
     },
     "execution_count": 13,
     "metadata": {},
     "output_type": "execute_result"
    }
   ],
   "source": [
    "model = LinearRegression()\n",
    "model.fit(Xreshaped, y)"
   ]
  },
  {
   "cell_type": "code",
   "execution_count": 35,
   "metadata": {},
   "outputs": [
    {
     "data": {
      "image/svg+xml": [
       "<svg xmlns=\"http://www.w3.org/2000/svg\" xmlns:ev=\"http://www.w3.org/2001/xml-events\" xmlns:xlink=\"http://www.w3.org/1999/xlink\" baseProfile=\"full\" height=\"186.0\" version=\"1.1\" width=\"169.5\"><defs/><rect fill=\"white\" height=\"186.0\" width=\"169.5\" x=\"0\" y=\"0\"/><path d=\"M144.5,27.0 m-10.0,-2.0 l-15.5,8.5 -3.5,7.5 l0.0,5.5 -10.0,-1.5 l-16.0,1.5 -16.0,8.5 l-15.0,10.5 -10.5,14.5 l-0.5,8.5 10.0,3.5 l-6.0,28.5 0.0,16.5 l4.5,2.5 12.5,0.5 l7.5,-6.5 2.5,8.0 l6.0,6.5 11.5,6.0 l11.0,3.5 \" fill=\"none\" stroke=\"red\" stroke-width=\"2\"/><path d=\"M144.5,27.0 m-10.0,-2.0 l-15.5,8.5 -3.5,7.5 l0.0,5.5 -10.0,-1.5 l-16.0,1.5 -16.0,8.5 l-15.0,10.5 -10.5,14.5 l-0.5,8.5 10.0,3.5 l-6.0,28.5 0.0,16.5 l4.5,2.5 12.5,0.5 l7.5,-6.5 2.5,8.0 l6.0,6.5 11.5,6.0 l11.0,3.5 5.5,2.5 l5.0,1.0 4.0,0.0 l3.5,-0.5 4.0,-0.5 l4.0,-1.0 3.5,-1.5 l3.5,-2.0 2.5,-2.5 l1.0,-2.5 0.0,-2.0 l-0.0,-3.0 -0.5,-2.5 l-1.5,-1.5 -2.0,-1.0 l-2.0,-1.0 -2.0,-1.5 l-2.5,-1.5 -3.0,-1.5 l-3.0,-1.5 -3.0,-1.0 l-3.0,-1.0 -3.0,-0.5 l-3.0,-0.5 -3.0,-0.5 l-3.0,-0.5 -3.0,-0.5 l-2.5,-0.5 -2.5,-0.0 l-2.0,-0.0 -2.0,-0.0 l-2.0,0.0 -1.5,-0.0 l-1.5,-0.0 -1.5,-0.0 l-1.5,-0.0 -1.0,-0.0 l-1.0,-0.0 -1.0,-0.0 l-1.0,-0.0 -1.0,-0.0 l-1.0,-0.0 -1.0,-0.0 l-1.0,-0.0 -1.0,-0.0 l-1.0,-0.0 -1.0,-0.0 l-1.0,-0.0 -1.0,-0.0 l-1.0,-0.0 -1.0,-0.0 l-1.0,-0.0 -1.0,-0.0 l-1.0,-0.0 -1.0,-0.0 l-1.0,-0.0 -1.0,-0.0 l-1.0,-0.0 -1.0,-0.0 l-1.0,-0.0 -1.0,-0.0 l-1.0,-0.0 -1.0,-0.0 l-1.0,-0.0 -1.0,-0.0 l-1.0,-0.0 -1.0,-0.0 l-1.0,-0.0 -1.0,-0.0 l-1.0,-0.0 -1.0,-0.0 l-1.0,-0.0 -1.0,-0.0 l-1.0,-0.0 -1.0,-0.0 l-1.0,-0.0 -1.0,-0.0 l-1.0,-0.0 -1.0,-0.0 l-1.0,-0.0 -1.0,-0.0 l-1.0,-0.0 -1.0,-0.0 l-1.0,-0.0 -1.0,-0.0 l-1.0,-0.0 -1.0,-0.0 l-1.0,-0.0 -1.0,-0.0 l-1.0,-0.0 -1.0,-0.0 l-1.0,-0.0 -1.0,-0.0 l-1.0,-0.0 -1.0,-0.0 l-1.0,-0.0 -1.0,-0.0 l-1.0,-0.0 -1.0,-0.0 l-1.0,-0.0 \" fill=\"none\" stroke=\"black\" stroke-width=\"1\"/></svg>"
      ],
      "text/plain": [
       "<IPython.core.display.SVG object>"
      ]
     },
     "metadata": {},
     "output_type": "display_data"
    }
   ],
   "source": [
    "Xcopy = np.copy(random.choice(X))\n",
    "\n",
    "for i in range(100):\n",
    "    yhat = np.round(model.predict(Xcopy[-20:].reshape(1,-1)))\n",
    "    Xcopy = np.vstack((Xcopy, yhat))\n",
    "\n",
    "draw_strokes(Xcopy)"
   ]
  },
  {
   "cell_type": "code",
   "execution_count": null,
   "metadata": {},
   "outputs": [],
   "source": []
  }
 ],
 "metadata": {
  "kernelspec": {
   "display_name": "Python 3",
   "language": "python",
   "name": "python3"
  },
  "language_info": {
   "codemirror_mode": {
    "name": "ipython",
    "version": 3
   },
   "file_extension": ".py",
   "mimetype": "text/x-python",
   "name": "python",
   "nbconvert_exporter": "python",
   "pygments_lexer": "ipython3",
   "version": "3.8.5"
  }
 },
 "nbformat": 4,
 "nbformat_minor": 4
}
