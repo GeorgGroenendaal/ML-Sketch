{
 "cells": [
  {
   "cell_type": "code",
   "execution_count": 3,
   "metadata": {},
   "outputs": [],
   "source": [
    "import svgwrite\n",
    "import numpy as np\n",
    "import time\n",
    "import random\n",
    "import pickle\n",
    "import codecs\n",
    "import collections\n",
    "import os\n",
    "import math\n",
    "import json\n",
    "import tensorflow as tf\n",
    "from six.moves import xrange\n",
    "import pandas as pd"
   ]
  },
  {
   "cell_type": "code",
   "execution_count": 4,
   "metadata": {},
   "outputs": [],
   "source": [
    "data = np.load(\"cloud.npz\", encoding=\"latin1\", allow_pickle=True)\n",
    "train = data[\"train\"]"
   ]
  },
  {
   "cell_type": "code",
   "execution_count": 77,
   "metadata": {},
   "outputs": [],
   "source": [
    "from typing import List, Tuple\n",
    "import numpy as np\n",
    "from IPython.display import clear_output\n",
    "from sklearn.preprocessing import MinMaxScaler\n",
    "\n",
    "def create_window(input_data: np.array, window_size: int) -> np.array:\n",
    "    data_len = len(input_data)\n",
    "    result = np.zeros((data_len-window_size+1, window_size, *input_data.shape[1:]))\n",
    "    for i in range(data_len):\n",
    "        if i+window_size <= data_len:\n",
    "            result[i] = input_data[i:i+window_size]\n",
    "    return result\n",
    "\n",
    "\n",
    "def create_window_on_multiple_samples(input_data: np.array, window_size: int) -> np.array:\n",
    "    \"\"\"\n",
    "    Similar to create_window, but now can take multiple samples, will output in one\n",
    "    giant windowed np.array.\n",
    "    \"\"\"\n",
    "    windowed_data = []\n",
    "    for i, sample in enumerate(input_data):\n",
    "#         print(f\"sample = {sample[:,:2]}\")\n",
    "#         break\n",
    "#         windowed_data.append(create_window(sample[:,:2], window_size))\n",
    "        windowed_data.append(create_window(sample, window_size))\n",
    "\n",
    "        if i % 10000 == 0:\n",
    "            print(f\"Now at {i}\")\n",
    "            clear_output(wait=True)\n",
    "    result = np.concatenate(windowed_data)\n",
    "    print(f\"Done processing {i} samples, total of {result.shape[0]} windows and {result.shape[0] * result.shape[1]} datapoints\")\n",
    "    return np.concatenate(windowed_data)\n",
    "\n",
    "\n",
    "def split_train_test(input_data: List) -> Tuple[np.array, np.array]:\n",
    "#     return input_data[:,0:-1], input_data[:,-1]\n",
    "    return input_data[:,:-1], input_data[:,-1]\n",
    "\n",
    "def normalise_windows(window_data):\n",
    "    # A support function to normalize a dataset\n",
    "    scaler = MinMaxScaler()\n",
    "    normalised_data = []\n",
    "    for window in window_data:\n",
    "        scaled = scaler.fit_transform(window)\n",
    "        normalised_data.append(scaled)\n",
    "    return np.concatenate(normalised_data)"
   ]
  },
  {
   "cell_type": "code",
   "execution_count": 78,
   "metadata": {},
   "outputs": [
    {
     "name": "stdout",
     "output_type": "stream",
     "text": [
      "Done processing 69999 samples, total of 3882224 windows and 19411120 datapoints\n"
     ]
    }
   ],
   "source": [
    "x = create_window_on_multiple_samples(train, 5)"
   ]
  },
  {
   "cell_type": "code",
   "execution_count": null,
   "metadata": {},
   "outputs": [],
   "source": []
  },
  {
   "cell_type": "code",
   "execution_count": 79,
   "metadata": {},
   "outputs": [],
   "source": [
    "X, Y = split_train_test(x)"
   ]
  },
  {
   "cell_type": "code",
   "execution_count": 85,
   "metadata": {},
   "outputs": [
    {
     "name": "stdout",
     "output_type": "stream",
     "text": [
      "X = [[[  1. -42.   0.]\n",
      "  [  5. -10.   0.]\n",
      "  [ 28. -21.   0.]\n",
      "  [ 29.  -8.   0.]]\n",
      "\n",
      " [[  5. -10.   0.]\n",
      "  [ 28. -21.   0.]\n",
      "  [ 29.  -8.   0.]\n",
      "  [ 47.   1.   0.]]] Y = [[47.  1.  0.]\n",
      " [19. 10.  0.]] \t X shape = 3882224\n"
     ]
    }
   ],
   "source": [
    "print(f\"X = {X[:2]} Y = {Y[:2]} \\t X shape = {X.shape[0]}\")"
   ]
  },
  {
   "cell_type": "code",
   "execution_count": null,
   "metadata": {},
   "outputs": [
    {
     "name": "stdout",
     "output_type": "stream",
     "text": [
      "Model: \"sequential_12\"\n",
      "_________________________________________________________________\n",
      "Layer (type)                 Output Shape              Param #   \n",
      "=================================================================\n",
      "lstm_28 (LSTM)               (None, 3882224, 50)       10800     \n",
      "_________________________________________________________________\n",
      "lstm_29 (LSTM)               (None, 3882224, 50)       20200     \n",
      "_________________________________________________________________\n",
      "dropout_15 (Dropout)         (None, 3882224, 50)       0         \n",
      "_________________________________________________________________\n",
      "lstm_30 (LSTM)               (None, 3882224, 50)       20200     \n",
      "_________________________________________________________________\n",
      "dropout_16 (Dropout)         (None, 3882224, 50)       0         \n",
      "_________________________________________________________________\n",
      "lstm_31 (LSTM)               (None, 50)                20200     \n",
      "_________________________________________________________________\n",
      "dropout_17 (Dropout)         (None, 50)                0         \n",
      "_________________________________________________________________\n",
      "dense_7 (Dense)              (None, 1)                 51        \n",
      "=================================================================\n",
      "Total params: 71,451\n",
      "Trainable params: 71,451\n",
      "Non-trainable params: 0\n",
      "_________________________________________________________________\n",
      "None\n",
      "Epoch 1/200\n",
      "WARNING:tensorflow:Model was constructed with shape (None, 3882224, 3) for input KerasTensor(type_spec=TensorSpec(shape=(None, 3882224, 3), dtype=tf.float32, name='lstm_28_input'), name='lstm_28_input', description=\"created by layer 'lstm_28_input'\"), but it was called on an input with incompatible shape (None, 4, 3).\n",
      "WARNING:tensorflow:Model was constructed with shape (None, 3882224, 3) for input KerasTensor(type_spec=TensorSpec(shape=(None, 3882224, 3), dtype=tf.float32, name='lstm_28_input'), name='lstm_28_input', description=\"created by layer 'lstm_28_input'\"), but it was called on an input with incompatible shape (None, 4, 3).\n",
      "   784/121320 [..............................] - ETA: 17:30 - loss: 452.5487"
     ]
    }
   ],
   "source": [
    "from keras.models import Sequential\n",
    "from keras.layers import Dense\n",
    "from keras.layers import LSTM\n",
    "from keras.layers import Dropout\n",
    "from matplotlib import pyplot\n",
    "\n",
    "# Initialize LSTM\n",
    "model = Sequential()\n",
    "# print (train_set[3].shape)\n",
    "model.add(LSTM(units=50, return_sequences=True,\n",
    "     input_shape=(X.shape[0], 3)))\n",
    "\n",
    "# Adding a second LSTM layer and Dropout regularisation\n",
    "model.add(LSTM(units = 50, return_sequences = True))\n",
    "model.add(Dropout(0.2))\n",
    "\n",
    "# Adding a third LSTM layer and Dropout regularisation\n",
    "model.add(LSTM(units = 50, return_sequences = True))\n",
    "model.add(Dropout(0.2))\n",
    "\n",
    "# # Adding a fourth LSTM layer and Dropout regularisation\n",
    "model.add(LSTM(units = 50))\n",
    "model.add(Dropout(0.2))\n",
    "\n",
    "# Adding the output layer\n",
    "model.add(Dense(units = 1))\n",
    "\n",
    "# Compiling the RNN\n",
    "model.compile(optimizer = 'adam', loss = 'mse')\n",
    "# history = model.fit(X, Y, epochs=10, validation_data=(test_set, valid_set), shuffle=False)\n",
    "print(model.summary())\n",
    "# model.compile(loss='categorical_crossentropy', optimizer='rmsprop', metrics=['accuracy'])\n",
    "history = model.fit(X, Y, epochs = 200)\n",
    "\n",
    "# plot train and validation loss\n",
    "pyplot.plot(history.history['loss'])\n",
    "pyplot.plot(history.history['val_loss'])\n",
    "pyplot.title('model train vs validation loss')\n",
    "pyplot.ylabel('loss')\n",
    "pyplot.xlabel('epoch')\n",
    "pyplot.legend(['train', 'validation'], loc='upper right')\n",
    "pyplot.show()"
   ]
  },
  {
   "cell_type": "code",
   "execution_count": null,
   "metadata": {},
   "outputs": [],
   "source": [
    "print(f\"X = {X.shape} \\t Y = {Y.shape}\")"
   ]
  },
  {
   "cell_type": "code",
   "execution_count": null,
   "metadata": {},
   "outputs": [],
   "source": []
  }
 ],
 "metadata": {
  "kernelspec": {
   "display_name": "Python 3",
   "language": "python",
   "name": "python3"
  },
  "language_info": {
   "codemirror_mode": {
    "name": "ipython",
    "version": 3
   },
   "file_extension": ".py",
   "mimetype": "text/x-python",
   "name": "python",
   "nbconvert_exporter": "python",
   "pygments_lexer": "ipython3",
   "version": "3.8.5"
  }
 },
 "nbformat": 4,
 "nbformat_minor": 4
}
