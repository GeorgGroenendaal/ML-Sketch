{
 "cells": [
  {
   "cell_type": "code",
   "execution_count": 1,
   "metadata": {},
   "outputs": [],
   "source": [
    "import svgwrite\n",
    "import numpy as np\n",
    "import time\n",
    "import random\n",
    "import pickle\n",
    "import codecs\n",
    "import collections\n",
    "import os\n",
    "import math\n",
    "import json\n",
    "import tensorflow as tf\n",
    "from six.moves import xrange\n",
    "import pandas as pd\n",
    "from sklearn.linear_model import LinearRegression\n",
    "from utils import create_window,split_train_test"
   ]
  },
  {
   "cell_type": "code",
   "execution_count": 2,
   "metadata": {},
   "outputs": [],
   "source": [
    "# libraries required for visualisation:\n",
    "from IPython.display import SVG, display\n",
    "import PIL\n",
    "from PIL import Image\n",
    "import matplotlib.pyplot as plt\n",
    "\n",
    "# set numpy output to something sensible\n",
    "np.set_printoptions(precision=8, edgeitems=6, linewidth=200, suppress=True)"
   ]
  },
  {
   "cell_type": "markdown",
   "metadata": {},
   "source": [
    "## DATA"
   ]
  },
  {
   "cell_type": "markdown",
   "metadata": {},
   "source": [
    "### Functions to draw data\n",
    "\n",
    "- In draw_strokes(), the first 20 data points are written in black and the rest of the data is drawn in brown. This value(20) is a constant, which can be varied for further experimentation. "
   ]
  },
  {
   "cell_type": "code",
   "execution_count": 3,
   "metadata": {},
   "outputs": [],
   "source": [
    "# helper function for draw_strokes\n",
    "def get_bounds(data, factor):\n",
    "    min_x = 0\n",
    "    max_x = 0\n",
    "    min_y = 0\n",
    "    max_y = 0\n",
    "\n",
    "    abs_x = 0\n",
    "    abs_y = 0\n",
    "    for i in xrange(len(data)):\n",
    "        x = float(data[i,0])/factor\n",
    "        y = float(data[i,1])/factor\n",
    "        abs_x += x\n",
    "        abs_y += y\n",
    "        min_x = min(min_x, abs_x)\n",
    "        min_y = min(min_y, abs_y)\n",
    "        max_x = max(max_x, abs_x)\n",
    "        max_y = max(max_y, abs_y)\n",
    "    \n",
    "    return (min_x, max_x, min_y, max_y)\n",
    "\n",
    "# little function that displays vector images and saves them to .svg\n",
    "def draw_strokes(data, factor=2, svg_filename = 'sample.svg'):\n",
    "    min_x, max_x, min_y, max_y = get_bounds(data, factor)\n",
    "    dims = (50 + max_x - min_x, 50 + max_y - min_y)\n",
    "    dwg = svgwrite.Drawing(svg_filename, size=dims)\n",
    "    dwg.add(dwg.rect(insert=(0, 0), size=dims,fill='white'))\n",
    "    lift_pen = 1\n",
    "    abs_x = 25 - min_x \n",
    "    abs_y = 25 - min_y\n",
    "    p = \"M%s,%s \" % (abs_x, abs_y)\n",
    "    command = \"m\"\n",
    "    for i in xrange(0,20):\n",
    "        if (lift_pen == 1):\n",
    "            command = \"m\"\n",
    "        elif (command != \"l\"):\n",
    "            command = \"l\"\n",
    "        else:\n",
    "            command = \"\"\n",
    "        x = float(data[i,0])/factor\n",
    "        y = float(data[i,1])/factor\n",
    "        lift_pen = data[i, 2]\n",
    "        p += command+str(x)+\",\"+str(y)+\" \"\n",
    "    the_color = \"red\"\n",
    "    stroke_width = 2\n",
    "    dwg.add(dwg.path(p).stroke(the_color,stroke_width).fill(\"none\"))\n",
    "    for i in xrange(20,len(data)):\n",
    "        if (lift_pen == 1):\n",
    "            command = \"m\"\n",
    "        elif (command != \"l\"):\n",
    "            command = \"l\"\n",
    "        else:\n",
    "            command = \"\"\n",
    "        x = float(data[i,0])/factor\n",
    "        y = float(data[i,1])/factor\n",
    "        lift_pen = data[i, 2]\n",
    "        p += command+str(x)+\",\"+str(y)+\" \"\n",
    "    the_color = \"black\"\n",
    "    stroke_width = 1\n",
    "    dwg.add(dwg.path(p).stroke(the_color,stroke_width).fill(\"none\"))\n",
    "    dwg.save()\n",
    "    display(SVG(dwg.tostring()))\n",
    "\n",
    "# generate a 2D grid of many vector drawings\n",
    "def make_grid_svg(s_list, grid_space=10.0, grid_space_x=15.0):\n",
    "    \n",
    "    def get_start_and_end(x):\n",
    "        x = np.array(x)\n",
    "        x = x[:, 0:2]\n",
    "        x_start = x[0]\n",
    "        x_end = x.sum(axis=0)\n",
    "        x = x.cumsum(axis=0)\n",
    "        x_max = x.max(axis=0)\n",
    "        x_min = x.min(axis=0)\n",
    "        center_loc = (x_max+x_min)*0.5\n",
    "        return x_start-center_loc, x_end\n",
    "  \n",
    "    x_pos = 0.0\n",
    "    y_pos = 0.0\n",
    "    result = [[x_pos, y_pos, 1]]\n",
    "    \n",
    "    for sample in s_list:\n",
    "        s = sample[0]\n",
    "        grid_loc = sample[1]\n",
    "        grid_y = grid_loc[0]*grid_space+grid_space*0.5\n",
    "        grid_x = grid_loc[1]*grid_space_x+grid_space_x*0.5\n",
    "        start_loc, delta_pos = get_start_and_end(s)\n",
    "\n",
    "        loc_x = start_loc[0]\n",
    "        loc_y = start_loc[1]\n",
    "        new_x_pos = grid_x+loc_x\n",
    "        new_y_pos = grid_y+loc_y\n",
    "        result.append([new_x_pos-x_pos, new_y_pos-y_pos, 0])\n",
    "\n",
    "        result += s.tolist()\n",
    "        result[-1][2] = 1\n",
    "        x_pos = new_x_pos+delta_pos[0]\n",
    "        y_pos = new_y_pos+delta_pos[1]\n",
    "    return np.array(result)\n",
    "#test_set = np.load(data_dir, encoding='latin1', allow_pickle=True)\n",
    "# get a sample drawing from the test set, and render it to .svg"
   ]
  },
  {
   "cell_type": "code",
   "execution_count": 4,
   "metadata": {},
   "outputs": [
    {
     "name": "stdout",
     "output_type": "stream",
     "text": [
      "70000\n",
      "2500\n",
      "2500\n"
     ]
    },
    {
     "data": {
      "image/svg+xml": [
       "<svg baseProfile=\"full\" height=\"174.0\" version=\"1.1\" width=\"214.0\" xmlns=\"http://www.w3.org/2000/svg\" xmlns:ev=\"http://www.w3.org/2001/xml-events\" xmlns:xlink=\"http://www.w3.org/1999/xlink\"><defs/><rect fill=\"white\" height=\"174.0\" width=\"214.0\" x=\"0\" y=\"0\"/><path d=\"M40.5,71.5 m-4.5,-3.0 l0.0,-13.5 6.5,-14.0 l12.0,-8.5 9.5,-3.0 l9.5,1.5 12.5,8.0 l4.5,7.0 0.5,6.0 l3.5,-7.0 4.0,-4.0 l19.0,-12.5 14.5,-3.5 l11.5,1.5 3.0,3.0 l2.5,7.5 -2.0,11.0 l-6.5,12.5 24.0,-15.0 l6.5,-1.0 \" fill=\"none\" stroke=\"red\" stroke-width=\"2\"/><path d=\"M40.5,71.5 m-4.5,-3.0 l0.0,-13.5 6.5,-14.0 l12.0,-8.5 9.5,-3.0 l9.5,1.5 12.5,8.0 l4.5,7.0 0.5,6.0 l3.5,-7.0 4.0,-4.0 l19.0,-12.5 14.5,-3.5 l11.5,1.5 3.0,3.0 l2.5,7.5 -2.0,11.0 l-6.5,12.5 24.0,-15.0 l6.5,-1.0 6.5,1.0 l2.5,11.0 -3.0,12.5 l-4.5,13.5 -11.5,17.0 l1.5,-3.0 9.0,-5.0 l11.0,-1.0 5.5,5.0 l1.0,8.5 -1.0,6.0 l-12.5,24.5 -15.5,10.0 l-9.0,3.0 -18.5,1.5 l-6.5,-1.5 -10.5,-5.0 l-2.5,-4.5 0.0,-10.5 l4.5,-6.0 8.0,-1.0 l4.0,3.5 -1.5,5.0 l-6.5,8.0 -6.0,3.5 l-16.5,4.0 -17.0,-1.5 l-8.0,-2.5 -7.0,-3.5 l-5.0,-5.0 -3.5,-9.0 l0.0,-5.5 5.0,-8.0 l8.0,-2.0 3.0,1.0 l2.0,3.5 1.5,11.0 l-7.5,16.5 -10.0,5.0 l-10.5,1.5 -8.0,-3.0 l-8.5,-17.0 -4.5,-15.5 l-3.5,-16.5 -0.5,-14.5 l1.5,-4.5 9.5,-7.0 l12.5,5.0 6.5,8.0 \" fill=\"none\" stroke=\"black\" stroke-width=\"1\"/></svg>"
      ],
      "text/plain": [
       "<IPython.core.display.SVG object>"
      ]
     },
     "metadata": {},
     "output_type": "display_data"
    }
   ],
   "source": [
    "#Focus on cloud for the begining\n",
    "data_dir = 'cloud.npz'\n",
    "\n",
    "load_data = np.load(data_dir, encoding='latin1', allow_pickle=True) #specific to python3\n",
    "train_set = load_data['train']\n",
    "valid_set = load_data['valid']\n",
    "test_set = load_data['test']\n",
    "\n",
    "print (len(train_set))\n",
    "print (len(valid_set))\n",
    "print (len(test_set))\n",
    "\n",
    "draw_strokes(random.choice(test_set))"
   ]
  },
  {
   "cell_type": "code",
   "execution_count": 5,
   "metadata": {},
   "outputs": [],
   "source": [
    "#all_windows = create_window(train_set[0],5)\n",
    "#all_windows"
   ]
  },
  {
   "cell_type": "markdown",
   "metadata": {},
   "source": [
    "## Prepping the data\n",
    "\n",
    "- each data in the train set is a 2 dimensional numpyarray with 3 values (x_pixel,y_pixel,[penup=1,pendown=0]) \n",
    "\n",
    "- The following steps are done for all samples in the train set\n",
    "    - we take each sample from the train set\n",
    "    - create windows of length 20 [create_window() is written by George]\n",
    "    - save a set of 20 points as train_X\n",
    "    - save the corresponding 21st point from the set as the value to predict i.e train_y\n",
    "    - iterate through the entire sample"
   ]
  },
  {
   "cell_type": "code",
   "execution_count": 6,
   "metadata": {},
   "outputs": [
    {
     "data": {
      "text/plain": [
       "array([[   1,  -42,    0],\n",
       "       [   5,  -10,    0],\n",
       "       [  28,  -21,    0],\n",
       "       [  29,   -8,    0],\n",
       "       [  47,    1,    0],\n",
       "       [  19,   10,    0],\n",
       "       [   2,   12,    0],\n",
       "       [ -11,   15,    0],\n",
       "       [  10,    2,    0],\n",
       "       [  92,   -5,    0],\n",
       "       [ 137,    0,    0],\n",
       "       [   3,    5,    0],\n",
       "       [  -7,    3,    0],\n",
       "       [ -16,   17,    0],\n",
       "       [ 130,   -1,    0],\n",
       "       [   6,    5,    0],\n",
       "       [  -1,   13,    0],\n",
       "       [  -4,    9,    0],\n",
       "       [ -22,   22,    0],\n",
       "       [  50,   -4,    0],\n",
       "       [  68,    2,    0],\n",
       "       [  19,   12,    0],\n",
       "       [   9,   18,    0],\n",
       "       [  -2,   24,    0],\n",
       "       [ -15,   19,    0],\n",
       "       [ -32,   17,    0],\n",
       "       [ -29,   20,    0],\n",
       "       [ -20,   10,    0],\n",
       "       [ -16,    4,    0],\n",
       "       [  22,    0,    0],\n",
       "       [   3,    5,    0],\n",
       "       [  -2,    6,    0],\n",
       "       [ -17,   15,    0],\n",
       "       [-134,   68,    0],\n",
       "       [ -24,    6,    0],\n",
       "       [ -31,    0,    0],\n",
       "       [  -9,   -3,    0],\n",
       "       [ -28,  -15,    0],\n",
       "       [ -10,  -10,    0],\n",
       "       [  -5,   -9,    0],\n",
       "       [  -1,  -16,    0],\n",
       "       [  23,  -30,    0],\n",
       "       [ -32,   30,    0],\n",
       "       [ -49,   30,    0],\n",
       "       [ -35,   16,    0],\n",
       "       [ -23,   -1,    0],\n",
       "       [ -26,  -29,    0],\n",
       "       [ -12,  -27,    0],\n",
       "       [   0,  -19,    0],\n",
       "       [   5,  -11,    0],\n",
       "       [  18,  -23,    0],\n",
       "       [ -13,   17,    0],\n",
       "       [ -72,   34,    0],\n",
       "       [ -17,    4,    0],\n",
       "       [ -66,    0,    0],\n",
       "       [   2,  -75,    0],\n",
       "       [   3,  -27,    0],\n",
       "       [   8,  -17,    0],\n",
       "       [   8,  -10,    0],\n",
       "       [  14,   -7,    0],\n",
       "       [  36,   -2,    0],\n",
       "       [   0,    5,    0],\n",
       "       [ -13,   17,    0],\n",
       "       [  -6,    1,    0],\n",
       "       [ -20,  -45,    0],\n",
       "       [  -2,  -25,    0],\n",
       "       [  18,  -15,    0],\n",
       "       [  42,  -13,    0],\n",
       "       [  13,   -8,    1]], dtype=int16)"
      ]
     },
     "execution_count": 6,
     "metadata": {},
     "output_type": "execute_result"
    }
   ],
   "source": [
    "train_set[0]"
   ]
  },
  {
   "cell_type": "code",
   "execution_count": 7,
   "metadata": {},
   "outputs": [],
   "source": [
    "# Note: it takes a long time to fit the model on the entire data\n",
    "train_X = []\n",
    "train_y = []\n",
    "\n",
    "for i in range(len(train_set)-1):\n",
    "    all_windows = create_window(train_set[i],20)\n",
    "    \n",
    "    for j in range(len(all_windows)-1):\n",
    "        \n",
    "        X,y = all_windows[j],all_windows[j+1][-1]\n",
    "        train_X.append(X)\n",
    "        train_y.append(y)\n",
    "    break"
   ]
  },
  {
   "cell_type": "code",
   "execution_count": 12,
   "metadata": {},
   "outputs": [
    {
     "data": {
      "text/plain": [
       "(20, 3)"
      ]
     },
     "execution_count": 12,
     "metadata": {},
     "output_type": "execute_result"
    }
   ],
   "source": [
    "train_X[0].shape"
   ]
  },
  {
   "cell_type": "code",
   "execution_count": 13,
   "metadata": {},
   "outputs": [],
   "source": [
    "train_X = np.array(train_X)\n",
    "nsamples,nx,ny = train_X.shape"
   ]
  },
  {
   "cell_type": "code",
   "execution_count": 14,
   "metadata": {},
   "outputs": [],
   "source": [
    "# Since scikit learn requires data with a maximum of 2 dimensions we reshape it\n",
    "# reshaped data with dimensions = 2\n",
    "d2_train_dataset = train_X.reshape((nsamples,nx*ny))"
   ]
  },
  {
   "cell_type": "code",
   "execution_count": null,
   "metadata": {},
   "outputs": [],
   "source": []
  },
  {
   "cell_type": "code",
   "execution_count": 21,
   "metadata": {},
   "outputs": [
    {
     "data": {
      "text/plain": [
       "array([  1., -42.,   0.,   5., -10.,   0.,  28., -21.,   0.,  29.,  -8.,   0.,  47.,   1.,   0.,  19.,  10.,   0.,   2.,  12.,   0., -11.,  15.,   0.,  10.,   2.,   0.,  92.,  -5.,   0., 137.,   0.,\n",
       "         0.,   3.,   5.,   0.,  -7.,   3.,   0., -16.,  17.,   0., 130.,  -1.,   0.,   6.,   5.,   0.,  -1.,  13.,   0.,  -4.,   9.,   0., -22.,  22.,   0.,  50.,  -4.,   0.])"
      ]
     },
     "execution_count": 21,
     "metadata": {},
     "output_type": "execute_result"
    }
   ],
   "source": [
    "d2_train_dataset[0]"
   ]
  },
  {
   "cell_type": "markdown",
   "metadata": {},
   "source": [
    "## Training the model\n",
    "\n",
    "- Here we use a Linear_regression with the intuition being to pass a regression line\n",
    "- This is a very simple approach with room to improve\n"
   ]
  },
  {
   "cell_type": "code",
   "execution_count": 22,
   "metadata": {},
   "outputs": [
    {
     "data": {
      "text/plain": [
       "LinearRegression(copy_X=True, fit_intercept=True, n_jobs=None, normalize=False)"
      ]
     },
     "execution_count": 22,
     "metadata": {},
     "output_type": "execute_result"
    }
   ],
   "source": [
    "#Create a RandomForestRegressor model with the required hyperparameters\n",
    "model = LinearRegression()\n",
    "\n",
    "#Fit the training data (reshaped training data,y)\n",
    "model.fit(d2_train_dataset, train_y)"
   ]
  },
  {
   "cell_type": "code",
   "execution_count": null,
   "metadata": {},
   "outputs": [],
   "source": []
  },
  {
   "cell_type": "markdown",
   "metadata": {},
   "source": [
    "## Prediction\n",
    "\n",
    "After obtaining a test sample, the following is performed\n",
    "- reshape the test sample to match the training data\n",
    "- Since our predicts only the next point in the sequence, we append the result each time to the original test sample.\n",
    "- After appending we predict on the latest 20 points and repeat these steps for 100 times "
   ]
  },
  {
   "cell_type": "code",
   "execution_count": null,
   "metadata": {},
   "outputs": [],
   "source": []
  },
  {
   "cell_type": "code",
   "execution_count": 24,
   "metadata": {},
   "outputs": [
    {
     "data": {
      "text/plain": [
       "array([[-11,  37,   0,   4,  33,   0,  13,  11,   0,  20,   9,   0,  45,  -3,   0,  13, -15,   0,   9, -31,   0,   3, -61,   0,  -5, -12,   0, -10,  -3,   0, -12,   1,   0,  -3,   6,   0,   3,  18,\n",
       "          0,  19,  18,   0,  31,  14,   0,  38,   8,   0,  26,   0,   0,  21,  -7,   0,  11, -10,   0,   5, -16,   0]], dtype=int16)"
      ]
     },
     "execution_count": 24,
     "metadata": {},
     "output_type": "execute_result"
    }
   ],
   "source": [
    "test_sample = test_set[990][:20]\n",
    "new_sample = test_sample.reshape((1,nx*ny))\n",
    "new_sample"
   ]
  },
  {
   "cell_type": "code",
   "execution_count": 25,
   "metadata": {},
   "outputs": [],
   "source": [
    "for i in range(100):\n",
    "\n",
    "    # get the last 20 samples (20*3 datapoints = 60)\n",
    "    yhat = model.predict(np.array([new_sample[0][-60:]]))\n",
    "    \n",
    "    # we round off the output to remove decimals\n",
    "    yhat[0][0] = round(yhat[0][0])\n",
    "    yhat[0][1] = round(yhat[0][1])\n",
    "    yhat[0][2] = round(yhat[0][2])\n",
    "    \n",
    "    #append the prediction to sample\n",
    "    new_sample = np.append(new_sample,yhat)\n",
    "\n",
    "    #to retain dimension of the sample\n",
    "    new_sample = np.array([new_sample])"
   ]
  },
  {
   "cell_type": "code",
   "execution_count": 26,
   "metadata": {},
   "outputs": [
    {
     "name": "stdout",
     "output_type": "stream",
     "text": [
      "Our prediction\n"
     ]
    },
    {
     "data": {
      "image/svg+xml": [
       "<svg baseProfile=\"full\" height=\"246.0\" version=\"1.1\" width=\"347.0\" xmlns=\"http://www.w3.org/2000/svg\" xmlns:ev=\"http://www.w3.org/2001/xml-events\" xmlns:xlink=\"http://www.w3.org/1999/xlink\"><defs/><rect fill=\"white\" height=\"246.0\" width=\"347.0\" x=\"0\" y=\"0\"/><path d=\"M30.5,176.0 m-5.5,18.5 l2.0,16.5 6.5,5.5 l10.0,4.5 22.5,-1.5 l6.5,-7.5 4.5,-15.5 l1.5,-30.5 -2.5,-6.0 l-5.0,-1.5 -6.0,0.5 l-1.5,3.0 1.5,9.0 l9.5,9.0 15.5,7.0 l19.0,4.0 13.0,0.0 l10.5,-3.5 5.5,-5.0 l2.5,-8.0 \" fill=\"none\" stroke=\"red\" stroke-width=\"2\"/><path d=\"M30.5,176.0 m-5.5,18.5 l2.0,16.5 6.5,5.5 l10.0,4.5 22.5,-1.5 l6.5,-7.5 4.5,-15.5 l1.5,-30.5 -2.5,-6.0 l-5.0,-1.5 -6.0,0.5 l-1.5,3.0 1.5,9.0 l9.5,9.0 15.5,7.0 l19.0,4.0 13.0,0.0 l10.5,-3.5 5.5,-5.0 l2.5,-8.0 -35.5,8.0 m18.5,-17.0 l-1.0,9.0 22.0,-8.5 l23.0,-8.0 12.0,-1.5 l28.5,-6.5 7.0,4.5 l-2.0,13.5 -10.5,19.5 l-15.0,13.0 -5.0,4.5 l-1.0,-7.5 17.0,-18.0 l-9.0,-1.0 26.0,-23.0 l-14.0,16.5 5.0,0.0 l-8.5,21.0 -7.5,9.0 l1.0,2.5 -6.5,-4.5 l-4.5,-7.0 4.0,-4.0 l-1.5,-6.5 3.5,3.5 l3.5,1.5 6.5,6.0 l-26.0,16.5 12.5,-16.5 l-44.0,16.5 14.0,-29.5 l-13.5,9.5 14.5,-16.0 l14.5,3.0 7.0,-0.5 l3.5,6.5 -16.5,11.0 l-12.5,-3.5 -22.0,4.5 l-8.0,-15.5 11.5,-8.0 l-12.5,2.0 m47.0,-25.0 l-27.5,22.5 m45.5,-31.0 l-40.5,36.0 11.5,-20.5 l-27.0,22.0 -6.5,-16.0 l6.0,-3.5 0.0,-5.5 l25.5,-18.0 6.5,3.5 l17.0,-16.5 2.0,13.5 l-27.5,10.0 21.5,-7.0 l-60.5,27.5 m62.0,-50.5 l-50.5,38.0 m66.5,-58.0 l-22.0,34.5 m35.0,-36.0 l-3.5,24.5 -9.5,2.0 l6.5,5.0 -31.0,18.0 l17.5,-29.5 -6.0,11.5 l2.0,-22.5 m46.0,-10.5 l-41.5,19.5 m92.0,-45.5 l-91.0,73.0 m88.5,-63.0 l-97.5,85.0 m53.0,-72.0 l-38.0,43.5 m17.0,-43.0 l25.5,3.5 -10.5,5.5 l50.5,-28.0 -27.5,41.5 l11.5,-23.5 -2.0,32.0 l-67.0,7.5 m88.5,-47.5 l-126.5,64.5 158.5,-110.5 l-134.0,115.0 147.5,-124.5 l-91.5,110.5 m60.0,-78.5 l-32.5,67.0 -39.5,-9.0 l37.0,-22.0 -65.5,37.0 l62.0,-71.0 -11.0,49.5 \" fill=\"none\" stroke=\"black\" stroke-width=\"1\"/></svg>"
      ],
      "text/plain": [
       "<IPython.core.display.SVG object>"
      ]
     },
     "metadata": {},
     "output_type": "display_data"
    }
   ],
   "source": [
    "#since the predicted sample was flattened, reshape it back to (number of datapoints,3)\n",
    "new_sample = new_sample.reshape(int(len(new_sample[0])/3),3)\n",
    "\n",
    "print(\"Our prediction\")\n",
    "#draw the prediction\n",
    "draw_strokes(new_sample)"
   ]
  },
  {
   "cell_type": "code",
   "execution_count": 27,
   "metadata": {},
   "outputs": [
    {
     "name": "stdout",
     "output_type": "stream",
     "text": [
      "Test data\n"
     ]
    },
    {
     "data": {
      "image/svg+xml": [
       "<svg baseProfile=\"full\" height=\"112.5\" version=\"1.1\" width=\"165.5\" xmlns=\"http://www.w3.org/2000/svg\" xmlns:ev=\"http://www.w3.org/2001/xml-events\" xmlns:xlink=\"http://www.w3.org/1999/xlink\"><defs/><rect fill=\"white\" height=\"112.5\" width=\"165.5\" x=\"0\" y=\"0\"/><path d=\"M30.5,42.5 m-5.5,18.5 l2.0,16.5 6.5,5.5 l10.0,4.5 22.5,-1.5 l6.5,-7.5 4.5,-15.5 l1.5,-30.5 -2.5,-6.0 l-5.0,-1.5 -6.0,0.5 l-1.5,3.0 1.5,9.0 l9.5,9.0 15.5,7.0 l19.0,4.0 13.0,0.0 l10.5,-3.5 5.5,-5.0 l2.5,-8.0 \" fill=\"none\" stroke=\"red\" stroke-width=\"2\"/><path d=\"M30.5,42.5 m-5.5,18.5 l2.0,16.5 6.5,5.5 l10.0,4.5 22.5,-1.5 l6.5,-7.5 4.5,-15.5 l1.5,-30.5 -2.5,-6.0 l-5.0,-1.5 -6.0,0.5 l-1.5,3.0 1.5,9.0 l9.5,9.0 15.5,7.0 l19.0,4.0 13.0,0.0 l10.5,-3.5 5.5,-5.0 l2.5,-8.0 \" fill=\"none\" stroke=\"black\" stroke-width=\"1\"/></svg>"
      ],
      "text/plain": [
       "<IPython.core.display.SVG object>"
      ]
     },
     "metadata": {},
     "output_type": "display_data"
    }
   ],
   "source": [
    "print(\"Test data\")\n",
    "draw_strokes(test_sample)"
   ]
  },
  {
   "cell_type": "code",
   "execution_count": null,
   "metadata": {},
   "outputs": [],
   "source": [
    "#regression : prediction is the average prediction across the trees in the ensemble\n",
    "#classification: prediction is the majority vote for the class label across the tree in the ensemble"
   ]
  }
 ],
 "metadata": {
  "kernelspec": {
   "display_name": "Python 3",
   "language": "python",
   "name": "python3"
  },
  "language_info": {
   "codemirror_mode": {
    "name": "ipython",
    "version": 3
   },
   "file_extension": ".py",
   "mimetype": "text/x-python",
   "name": "python",
   "nbconvert_exporter": "python",
   "pygments_lexer": "ipython3",
   "version": "3.7.4"
  }
 },
 "nbformat": 4,
 "nbformat_minor": 4
}
